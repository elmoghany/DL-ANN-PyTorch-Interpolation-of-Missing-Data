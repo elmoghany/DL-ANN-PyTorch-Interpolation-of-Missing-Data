{
 "cells": [
  {
   "cell_type": "code",
   "execution_count": 53,
   "metadata": {},
   "outputs": [
    {
     "name": "stderr",
     "output_type": "stream",
     "text": [
      "C:\\Users\\elmog\\AppData\\Local\\Temp\\ipykernel_34300\\1847374139.py:15: DeprecationWarning: `set_matplotlib_formats` is deprecated since IPython 7.23, directly use `matplotlib_inline.backend_inline.set_matplotlib_formats()`\n",
      "  set_matplotlib_formats('svg')\n"
     ]
    }
   ],
   "source": [
    "import numpy as np\n",
    "import torch\n",
    "import torch.nn as nn\n",
    "import torch.nn.functional as F\n",
    "from torch.utils.data import DataLoader, TensorDataset\n",
    "from sklearn.model_selection import train_test_split\n",
    "import pandas as pd\n",
    "import scipy.stats as stats\n",
    "import copy\n",
    "\n",
    "#for data visualization\n",
    "import seaborn as sns\n",
    "import matplotlib.pyplot as plt\n",
    "from IPython.display import set_matplotlib_formats\n",
    "set_matplotlib_formats('svg')"
   ]
  },
  {
   "cell_type": "code",
   "execution_count": 54,
   "metadata": {},
   "outputs": [
    {
     "name": "stdout",
     "output_type": "stream",
     "text": [
      "cuda\n"
     ]
    }
   ],
   "source": [
    "#GPU\n",
    "device = torch.device('cuda' if torch.cuda.is_available() else 'cpu')\n",
    "print(device)"
   ]
  },
  {
   "cell_type": "code",
   "execution_count": 55,
   "metadata": {},
   "outputs": [],
   "source": [
    "from ucimlrepo import fetch_ucirepo \n",
    "\n",
    "# fetch dataset \n",
    "concrete_compressive_strength = fetch_ucirepo(id=165) \n",
    "\n",
    "# data (as pandas dataframes) \n",
    "X = concrete_compressive_strength.data.features\n",
    "y = concrete_compressive_strength.data.targets"
   ]
  },
  {
   "cell_type": "code",
   "execution_count": 56,
   "metadata": {},
   "outputs": [
    {
     "name": "stdout",
     "output_type": "stream",
     "text": [
      "features keys:\n",
      "Index(['Cement', 'Blast Furnace Slag', 'Fly Ash', 'Water', 'Superplasticizer',\n",
      "       'Coarse Aggregate', 'Fine Aggregate', 'Age'],\n",
      "      dtype='object')\n"
     ]
    }
   ],
   "source": [
    "print(f'features keys:\\n{X.keys()}')"
   ]
  },
  {
   "cell_type": "code",
   "execution_count": 57,
   "metadata": {},
   "outputs": [
    {
     "name": "stdout",
     "output_type": "stream",
     "text": [
      "      Cement  Blast Furnace Slag  Fly Ash  Water  Superplasticizer  \\\n",
      "0      540.0                 0.0      0.0  162.0               2.5   \n",
      "1      540.0                 0.0      0.0  162.0               2.5   \n",
      "2      332.5               142.5      0.0  228.0               0.0   \n",
      "3      332.5               142.5      0.0  228.0               0.0   \n",
      "4      198.6               132.4      0.0  192.0               0.0   \n",
      "...      ...                 ...      ...    ...               ...   \n",
      "1025   276.4               116.0     90.3  179.6               8.9   \n",
      "1026   322.2                 0.0    115.6  196.0              10.4   \n",
      "1027   148.5               139.4    108.6  192.7               6.1   \n",
      "1028   159.1               186.7      0.0  175.6              11.3   \n",
      "1029   260.9               100.5     78.3  200.6               8.6   \n",
      "\n",
      "      Coarse Aggregate  Fine Aggregate  Age  Concrete compressive strength  \n",
      "0               1040.0           676.0   28                          79.99  \n",
      "1               1055.0           676.0   28                          61.89  \n",
      "2                932.0           594.0  270                          40.27  \n",
      "3                932.0           594.0  365                          41.05  \n",
      "4                978.4           825.5  360                          44.30  \n",
      "...                ...             ...  ...                            ...  \n",
      "1025             870.1           768.3   28                          44.28  \n",
      "1026             817.9           813.4   28                          31.18  \n",
      "1027             892.4           780.0   28                          23.70  \n",
      "1028             989.6           788.9   28                          32.77  \n",
      "1029             864.5           761.5   28                          32.40  \n",
      "\n",
      "[1030 rows x 9 columns]\n"
     ]
    }
   ],
   "source": [
    "# concatenate X & Y into 1 dataframe\n",
    "data = pd.concat([X, y], axis=1)\n",
    "print(data)"
   ]
  },
  {
   "cell_type": "code",
   "execution_count": 58,
   "metadata": {},
   "outputs": [],
   "source": [
    "# Step 0: Normalize z-score the data\n",
    "data = ( data - data.mean() ) / data.std(ddof=1)"
   ]
  },
  {
   "cell_type": "code",
   "execution_count": 59,
   "metadata": {},
   "outputs": [],
   "source": [
    "dataOrig = copy.deepcopy( data )"
   ]
  },
  {
   "cell_type": "code",
   "execution_count": 60,
   "metadata": {},
   "outputs": [],
   "source": [
    "### Replace some elements with NAN - method # 1\n",
    "number2NAN = 10\n",
    "values2NAN = np.random.choice(len(data), size=number2NAN)\n",
    "# data['Superplasticizer'][values2NAN] = np.nan\n",
    "data.loc[values2NAN, 'Superplasticizer'] = np.nan\n",
    "rowsWithValidData = np.where(~data['Superplasticizer'].isna())[0]"
   ]
  },
  {
   "cell_type": "code",
   "execution_count": 61,
   "metadata": {},
   "outputs": [],
   "source": [
    "### Replace some elements with NAN - method # 2\n",
    "# if 'Superplasticizer' in data.columns:\n",
    "#     # Select 10 random indices from X\n",
    "#     random_indices = data.sample(n=10, random_state=42).index\n",
    "#     print(random_indices)\n",
    "#     data.loc[random_indices, 'Superplasticizer'] = np.nan\n",
    "#     print(data.loc[random_indices])\n",
    "# else:\n",
    "#     print(\"The 'Superplasticizer' column does not exist in the DataFrame.\")"
   ]
  },
  {
   "cell_type": "code",
   "execution_count": 62,
   "metadata": {},
   "outputs": [],
   "source": [
    "# Step 1: Convert from pandas data to tensor\n",
    "# Step 2: Split the data into Train & Test\n",
    "\n",
    "# Superplasticizer column dropped for TRAIN Dataset\n",
    "cols2keep = data.keys()\n",
    "cols2keep = cols2keep.drop('Superplasticizer')\n",
    "\n",
    "#dataframe TRAIN -> train tensor + split data to train data & train labels\n",
    "train_dataT = torch.tensor( data[cols2keep].values ).float()\n",
    "train_dataT = train_dataT[ rowsWithValidData ]\n",
    "\n",
    "train_labelT = torch.tensor( data['Superplasticizer'].values ).float()\n",
    "train_labelT = train_labelT[ rowsWithValidData, None ]\n",
    "\n",
    "#dataframe TEST -> Test tensor + split data to train data & train labels\n",
    "test_dataT = torch.tensor( data[cols2keep].values ).float()\n",
    "test_dataT = test_dataT[ values2NAN ]\n",
    "\n",
    "test_labelT = torch.tensor( data['Superplasticizer'].values ).float()\n",
    "test_labelT = test_labelT[ values2NAN, None ]"
   ]
  },
  {
   "cell_type": "code",
   "execution_count": 63,
   "metadata": {},
   "outputs": [
    {
     "name": "stdout",
     "output_type": "stream",
     "text": [
      "original data: (1030, 9)\n",
      "Train data   : torch.Size([1020, 8])\n",
      "Train label  : torch.Size([1020, 1])\n",
      "Test  data   : torch.Size([10, 8])\n",
      "Test label   : torch.Size([10, 1])\n"
     ]
    }
   ],
   "source": [
    "# confirm sizes\n",
    "print(f'original data: {data.shape}')\n",
    "print(f'Train data   : {train_dataT.shape}')\n",
    "print(f'Train label  : {train_labelT.shape}')\n",
    "print(f'Test  data   : {test_dataT.shape}')\n",
    "print(f'Test label   : {test_labelT.shape}')"
   ]
  }
 ],
 "metadata": {
  "kernelspec": {
   "display_name": "Python 3",
   "language": "python",
   "name": "python3"
  },
  "language_info": {
   "codemirror_mode": {
    "name": "ipython",
    "version": 3
   },
   "file_extension": ".py",
   "mimetype": "text/x-python",
   "name": "python",
   "nbconvert_exporter": "python",
   "pygments_lexer": "ipython3",
   "version": "3.11.0"
  }
 },
 "nbformat": 4,
 "nbformat_minor": 2
}
